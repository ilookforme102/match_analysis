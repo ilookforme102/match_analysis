{
 "cells": [
  {
   "cell_type": "code",
   "execution_count": 21,
   "id": "6fd1d09a-a7d9-4e49-8a01-55f28292c694",
   "metadata": {},
   "outputs": [],
   "source": [
    "import time\n",
    "import numpy as np\n",
    "import json\n",
    "import math\n",
    "import requests\n",
    "import os\n",
    "end_point_match_info = 'https://api.tysobongda.org/matchInfo'\n",
    "body = {\"id\":\"965mkyhy79pkr1g\"}\n",
    "list_days = {'Mon':'Thứ Hai','Tue':'Thứ Ba','Wed':'Thứ Tư','Thu':'Thứ Năm','Fri':'Thứ Sáu','Sat':'Thứ Bảy','Sun':'Chủ Nhật'}\n",
    "\n",
    "response = requests.post(end_point_match_info,headers={\"Content-Type\": \"application/json\"},json= body)\n",
    "data = response.json()\n",
    "team1 = data['result']['home_name']\n",
    "team2 = data['result']['away_name']\n",
    "league_name = data['result']['competition_name']\n",
    "unix_time = data['result']['match_time']\n",
    "day_of_week_vi = list_days[time.strftime(\"%a\", time.localtime(unix_time-3600))]\n",
    "date_dmy =time.strftime(\"%d/%m/%Y\", time.localtime(unix_time-3600))\n",
    "time_hm= time.strftime(\"%H:%M\", time.localtime(unix_time-3600))\n",
    "stadium = data['result']['venue_name']"
   ]
  },
  {
   "cell_type": "code",
   "execution_count": 20,
   "id": "a1f57242-213a-41e1-a955-7580651c5f67",
   "metadata": {},
   "outputs": [
    {
     "data": {
      "text/plain": [
       "dict_keys(['competition_id', 'competition_name', 'competition_logo', 'round_num', 'group_num', 'type', 'match_time', 'status_id', 'home_name', 'home_logo', 'away_name', 'away_logo', 'venue_name'])"
      ]
     },
     "execution_count": 20,
     "metadata": {},
     "output_type": "execute_result"
    }
   ],
   "source": [
    "data['result'].keys()"
   ]
  },
  {
   "cell_type": "code",
   "execution_count": 67,
   "id": "1f75e05d-aa9d-4f65-b5de-6de34e235cf6",
   "metadata": {},
   "outputs": [],
   "source": [
    "# Your code to fetch match data goes here\n",
    "end_point2 = 'https://api.tysobongda.org/matchH2H'\n",
    "body2 = {\"id\":str('965mkyhy79pkr1g')}\n",
    "response2 = requests.post(end_point2,headers={\"Content-Type\": \"application/json\"},json= body)\n",
    "data2 = response2.json()\n",
    "team1_h2h_home_scrores = []\n",
    "for i in data2['h2h'][0]['matches']:\n",
    "    if i['home_name']== team1:\n",
    "        team1_h2h_home_scrores.append(i['home_scores'][0])\n",
    "#team1 as away\n",
    "team1_h2h_away_scrores = []\n",
    "for i in data2['h2h'][0]['matches']:\n",
    "    if i['away_name']== team1:\n",
    "        team1_h2h_away_scrores.append(i['away_scores'][0]) \n",
    "#team2 as home\n",
    "team2_h2h_home_scrores = []\n",
    "for i in data2['h2h'][0]['matches']:\n",
    "    if i['home_name']== team2:\n",
    "        team2_h2h_home_scrores.append(i['home_scores'][0])\n",
    "#team2 as away\n",
    "team2_h2h_away_scrores = []\n",
    "for i in data2['h2h'][0]['matches']:\n",
    "    if i['away_name']== team2:\n",
    "        team2_h2h_away_scrores.append(i['away_scores'][0]) \n",
    "#Average h2h home and away scores \n",
    "team1_avg_h2h_home_scores = np.mean(team1_h2h_home_scrores[0:5])\n",
    "team2_avg_h2h_away_scores = np.mean(team2_h2h_away_scrores[0:5])\n",
    "#Team1 GA and GF scores\n",
    "team1_home_ga_scores=[]\n",
    "team1_home_gf_scores=[]\n",
    "for i in data2['home'][0]['matches']:\n",
    "    if i['home_name']== team1:\n",
    "        team1_home_ga_scores.append(i['home_scores'][0])\n",
    "        team1_home_gf_scores.append(i['away_scores'][0])"
   ]
  },
  {
   "cell_type": "code",
   "execution_count": 71,
   "id": "20b9eab2-3218-45c9-a0fe-263d22da63d6",
   "metadata": {},
   "outputs": [
    {
     "data": {
      "text/plain": [
       "dict_keys(['h2h', 'home', 'away'])"
      ]
     },
     "execution_count": 71,
     "metadata": {},
     "output_type": "execute_result"
    }
   ],
   "source": [
    " data2.keys()"
   ]
  },
  {
   "cell_type": "code",
   "execution_count": 72,
   "id": "d6938804-db6e-4742-beb2-1aa898f927c4",
   "metadata": {},
   "outputs": [
    {
     "data": {
      "text/plain": [
       "[{'competition_id': 'gy0or5jhg6qwzv3',\n",
       "  'competition_name': 'Bundesliga',\n",
       "  'competition_logo': '/football/competition/0c6a25cd746e802296d9064b4504179d.png',\n",
       "  'matches': [{'match_id': '2y8m4zhwk9zzql0',\n",
       "    'match_time': 1702143000,\n",
       "    'status_id': 8,\n",
       "    'home_team_id': '4zp5rzghe4nq82w',\n",
       "    'home_name': 'Borussia Dortmund',\n",
       "    'home_logo': '/football/team/bbfacbdbe67705172c6414d7e9c21b58.png',\n",
       "    'away_team_id': 'z318q66hdleqo9j',\n",
       "    'away_name': 'RB Leipzig',\n",
       "    'away_logo': '/football/team/26a59fe5653a96ba72f4f1e4e08b6d4b.png',\n",
       "    'home_scores': [2, 1, 1, 1, 6, 0, 0],\n",
       "    'away_scores': [3, 1, 0, 3, 6, 0, 0]},\n",
       "   {'match_id': 'l7oqdeh85kl4r51',\n",
       "    'match_time': 1701527400,\n",
       "    'status_id': 8,\n",
       "    'home_team_id': 'z318q66hdleqo9j',\n",
       "    'home_name': 'RB Leipzig',\n",
       "    'home_logo': '/football/team/26a59fe5653a96ba72f4f1e4e08b6d4b.png',\n",
       "    'away_team_id': 'n54qllh261zqvy9',\n",
       "    'away_name': '1. FC Heidenheim',\n",
       "    'away_logo': '/football/team/65ee743f20fa7db286fdeda4d33c6980.png',\n",
       "    'home_scores': [2, 2, 0, 2, 5, 0, 0],\n",
       "    'away_scores': [1, 1, 0, 2, 3, 0, 0]},\n",
       "   {'match_id': '965mkyh26xedr1g',\n",
       "    'match_time': 1700922600,\n",
       "    'status_id': 8,\n",
       "    'home_team_id': '56ypq3nhdnkmd7o',\n",
       "    'home_name': 'VfL Wolfsburg',\n",
       "    'home_logo': '/football/team/03645e9c1d7fd2c48705622f52fd901e.png',\n",
       "    'away_team_id': 'z318q66hdleqo9j',\n",
       "    'away_name': 'RB Leipzig',\n",
       "    'away_logo': '/football/team/26a59fe5653a96ba72f4f1e4e08b6d4b.png',\n",
       "    'home_scores': [2, 1, 0, 4, 1, 0, 0],\n",
       "    'away_scores': [1, 0, 0, 2, 12, 0, 0]},\n",
       "   {'match_id': 'pxwrxlhxkoj7ryk',\n",
       "    'match_time': 1699813800,\n",
       "    'status_id': 8,\n",
       "    'home_team_id': 'z318q66hdleqo9j',\n",
       "    'home_name': 'RB Leipzig',\n",
       "    'home_logo': '/football/team/26a59fe5653a96ba72f4f1e4e08b6d4b.png',\n",
       "    'away_team_id': 'l965mkyh924r1ge',\n",
       "    'away_name': 'SC Freiburg',\n",
       "    'away_logo': '/football/team/6508946c9a5fe22a8784b905b25e8c79.png',\n",
       "    'home_scores': [3, 1, 0, 2, 7, 0, 0],\n",
       "    'away_scores': [1, 1, 0, 0, 3, 0, 0]},\n",
       "   {'match_id': 'dj2ryohez0j8q1z',\n",
       "    'match_time': 1699108200,\n",
       "    'status_id': 8,\n",
       "    'home_team_id': 'jednm9whl2kryox',\n",
       "    'home_name': 'FSV Mainz 05',\n",
       "    'home_logo': '/football/team/903089d338485f6c68fbc5da690a0628.png',\n",
       "    'away_team_id': 'z318q66hdleqo9j',\n",
       "    'away_name': 'RB Leipzig',\n",
       "    'away_logo': '/football/team/26a59fe5653a96ba72f4f1e4e08b6d4b.png',\n",
       "    'home_scores': [2, 0, 0, 3, 2, 0, 0],\n",
       "    'away_scores': [0, 0, 0, 1, 7, 0, 0]},\n",
       "   {'match_id': '965mkyh26x38r1g',\n",
       "    'match_time': 1698510600,\n",
       "    'status_id': 8,\n",
       "    'home_team_id': 'z318q66hdleqo9j',\n",
       "    'home_name': 'RB Leipzig',\n",
       "    'home_logo': '/football/team/26a59fe5653a96ba72f4f1e4e08b6d4b.png',\n",
       "    'away_team_id': 'yl5ergphj74r8k0',\n",
       "    'away_name': 'FC Köln',\n",
       "    'away_logo': '/football/team/887b7663a0d47031528921d9972ae3a6.png',\n",
       "    'home_scores': [6, 4, 0, 2, 11, 0, 0],\n",
       "    'away_scores': [0, 0, 1, 4, 1, 0, 0]},\n",
       "   {'match_id': 'dj2ryohez0y8q1z',\n",
       "    'match_time': 1697895000,\n",
       "    'status_id': 8,\n",
       "    'home_team_id': 'z318q66hy39qo9j',\n",
       "    'home_name': 'SV Darmstadt 98',\n",
       "    'home_logo': '/football/team/da5997a60373a56628e684ae3c16f2c8.png',\n",
       "    'away_team_id': 'z318q66hdleqo9j',\n",
       "    'away_name': 'RB Leipzig',\n",
       "    'away_logo': '/football/team/26a59fe5653a96ba72f4f1e4e08b6d4b.png',\n",
       "    'home_scores': [1, 1, 0, 6, 6, 0, 0],\n",
       "    'away_scores': [3, 2, 0, 3, 0, 0, 0]},\n",
       "   {'match_id': 'l5ergphl9631r8k',\n",
       "    'match_time': 1696685400,\n",
       "    'status_id': 8,\n",
       "    'home_team_id': 'z318q66hdleqo9j',\n",
       "    'home_name': 'RB Leipzig',\n",
       "    'home_logo': '/football/team/26a59fe5653a96ba72f4f1e4e08b6d4b.png',\n",
       "    'away_team_id': 'kn54qllhy10qvy9',\n",
       "    'away_name': 'VfL Bochum',\n",
       "    'away_logo': '/football/team/51e1cbc15a7ae90e176b1c1dfb096928.png',\n",
       "    'home_scores': [0, 0, 0, 2, 9, 0, 0],\n",
       "    'away_scores': [0, 0, 0, 4, 1, 0, 0]},\n",
       "   {'match_id': '4jwq2ghz3jkem0v',\n",
       "    'match_time': 1696091400,\n",
       "    'status_id': 8,\n",
       "    'home_team_id': 'z318q66hdleqo9j',\n",
       "    'home_name': 'RB Leipzig',\n",
       "    'home_logo': '/football/team/26a59fe5653a96ba72f4f1e4e08b6d4b.png',\n",
       "    'away_team_id': 'yl5ergphjy2r8k0',\n",
       "    'away_name': 'Bayern Munchen',\n",
       "    'away_logo': '/football/team/4c7e35b5134ebf4d92bdf0e88519e077.png',\n",
       "    'home_scores': [2, 2, 0, 2, 5, 0, 0],\n",
       "    'away_scores': [2, 0, 0, 5, 1, 0, 0]},\n",
       "   {'match_id': 'dj2ryohez0k8q1z',\n",
       "    'match_time': 1695475800,\n",
       "    'status_id': 8,\n",
       "    'home_team_id': 'l965mkyh9o4r1ge',\n",
       "    'home_name': 'Borussia Monchengladbach',\n",
       "    'home_logo': '/football/team/89cdadf6cf1eb6f8d2507de1e01f806c.png',\n",
       "    'away_team_id': 'z318q66hdleqo9j',\n",
       "    'away_name': 'RB Leipzig',\n",
       "    'away_logo': '/football/team/26a59fe5653a96ba72f4f1e4e08b6d4b.png',\n",
       "    'home_scores': [0, 0, 0, 1, 11, 0, 0],\n",
       "    'away_scores': [1, 0, 0, 1, 6, 0, 0]},\n",
       "   {'match_id': 'dn1m1ghpwz4zmoe',\n",
       "    'match_time': 1694871000,\n",
       "    'status_id': 8,\n",
       "    'home_team_id': 'z318q66hdleqo9j',\n",
       "    'home_name': 'RB Leipzig',\n",
       "    'home_logo': '/football/team/26a59fe5653a96ba72f4f1e4e08b6d4b.png',\n",
       "    'away_team_id': 'vl7oqdehzvnr510',\n",
       "    'away_name': 'FC Augsburg',\n",
       "    'away_logo': '/football/team/db4411a3c4ce1d0f092f5b9d1df08664.png',\n",
       "    'home_scores': [3, 3, 0, 0, 1, 0, 0],\n",
       "    'away_scores': [0, 0, 0, 0, 6, 0, 0]},\n",
       "   {'match_id': '23xmvkhpnj39qg8',\n",
       "    'match_time': 1693755000,\n",
       "    'status_id': 8,\n",
       "    'home_team_id': '9vjxm8gh613r6od',\n",
       "    'home_name': 'Union Berlin',\n",
       "    'home_logo': '/football/team/45ab4c846b0d4df5b002c571b16112dc.png',\n",
       "    'away_team_id': 'z318q66hdleqo9j',\n",
       "    'away_name': 'RB Leipzig',\n",
       "    'away_logo': '/football/team/26a59fe5653a96ba72f4f1e4e08b6d4b.png',\n",
       "    'home_scores': [0, 0, 1, 3, 3, 0, 0],\n",
       "    'away_scores': [3, 0, 0, 1, 7, 0, 0]},\n",
       "   {'match_id': '8yomo4hgdo77q0j',\n",
       "    'match_time': 1692988200,\n",
       "    'status_id': 8,\n",
       "    'home_team_id': 'z318q66hdleqo9j',\n",
       "    'home_name': 'RB Leipzig',\n",
       "    'home_logo': '/football/team/26a59fe5653a96ba72f4f1e4e08b6d4b.png',\n",
       "    'away_team_id': 'gx7lm7phd7em2wd',\n",
       "    'away_name': 'VfB Stuttgart',\n",
       "    'away_logo': '/football/team/bfdd500484330d63a723cbc396df762c.png',\n",
       "    'home_scores': [5, 0, 0, 1, 4, 0, 0],\n",
       "    'away_scores': [1, 1, 0, 1, 4, 0, 0]},\n",
       "   {'match_id': 'l7oqdeh85z45r51',\n",
       "    'match_time': 1692451800,\n",
       "    'status_id': 8,\n",
       "    'home_team_id': '4zp5rzghewnq82w',\n",
       "    'home_name': 'Bayer Leverkusen',\n",
       "    'home_logo': '/football/team/d3205f3ddca07dc01c822ea0de24a0e7.png',\n",
       "    'away_team_id': 'z318q66hdleqo9j',\n",
       "    'away_name': 'RB Leipzig',\n",
       "    'away_logo': '/football/team/26a59fe5653a96ba72f4f1e4e08b6d4b.png',\n",
       "    'home_scores': [3, 2, 0, 1, 4, 0, 0],\n",
       "    'away_scores': [2, 1, 0, 2, 5, 0, 0]},\n",
       "   {'match_id': 'pxwrxlhx2jv5ryk',\n",
       "    'match_time': 1685194200,\n",
       "    'status_id': 8,\n",
       "    'home_team_id': 'z318q66hdleqo9j',\n",
       "    'home_name': 'RB Leipzig',\n",
       "    'home_logo': '/football/team/26a59fe5653a96ba72f4f1e4e08b6d4b.png',\n",
       "    'away_team_id': 'gpxwrxlhwkvryk0',\n",
       "    'away_name': 'Schalke 04',\n",
       "    'away_logo': '/football/team/4533ab7ef9ad5e53c981f7ea7bea7033.png',\n",
       "    'home_scores': [4, 2, 0, 2, 4, 0, 0],\n",
       "    'away_scores': [2, 1, 0, 2, 5, 0, 0]},\n",
       "   {'match_id': '4wyrn4ho74v4q86',\n",
       "    'match_time': 1684600200,\n",
       "    'status_id': 8,\n",
       "    'home_team_id': 'yl5ergphjy2r8k0',\n",
       "    'home_name': 'Bayern Munchen',\n",
       "    'home_logo': '/football/team/4c7e35b5134ebf4d92bdf0e88519e077.png',\n",
       "    'away_team_id': 'z318q66hdleqo9j',\n",
       "    'away_name': 'RB Leipzig',\n",
       "    'away_logo': '/football/team/26a59fe5653a96ba72f4f1e4e08b6d4b.png',\n",
       "    'home_scores': [1, 1, 0, 1, 7, 0, 0],\n",
       "    'away_scores': [3, 0, 0, 1, 2, 0, 0]}]},\n",
       " {'competition_id': 'z8yomo4h7wq0j6l',\n",
       "  'competition_name': 'UEFA Champions League',\n",
       "  'competition_logo': '/football/competition/ac05535bde17129cb598311242b3afba.png',\n",
       "  'matches': [{'match_id': 'dj2ryoh1k38wq1z',\n",
       "    'match_time': 1701201600,\n",
       "    'status_id': 8,\n",
       "    'home_team_id': 'p4jwq2ghd57m0ve',\n",
       "    'home_name': 'Manchester City',\n",
       "    'home_logo': '/football/team/c4a6528a2ee147b99c9885ef24385a4e.png',\n",
       "    'away_team_id': 'z318q66hdleqo9j',\n",
       "    'away_name': 'RB Leipzig',\n",
       "    'away_logo': '/football/team/26a59fe5653a96ba72f4f1e4e08b6d4b.png',\n",
       "    'home_scores': [3, 0, 0, 1, 6, 0, 0],\n",
       "    'away_scores': [2, 2, 0, 0, 7, 0, 0]},\n",
       "   {'match_id': 'l7oqdehonz75r51',\n",
       "    'match_time': 1699387200,\n",
       "    'status_id': 8,\n",
       "    'home_team_id': '9k82rekh44krepz',\n",
       "    'home_name': 'Crvena Zvezda',\n",
       "    'home_logo': '/football/team/61a1f9406cde098a265280a3683da9b7.png',\n",
       "    'away_team_id': 'z318q66hdleqo9j',\n",
       "    'away_name': 'RB Leipzig',\n",
       "    'away_logo': '/football/team/26a59fe5653a96ba72f4f1e4e08b6d4b.png',\n",
       "    'home_scores': [1, 0, 0, 5, 4, 0, 0],\n",
       "    'away_scores': [2, 1, 0, 3, 7, 0, 0]},\n",
       "   {'match_id': 'k82rekhwvdlerep',\n",
       "    'match_time': 1698260400,\n",
       "    'status_id': 8,\n",
       "    'home_team_id': 'z318q66hdleqo9j',\n",
       "    'home_name': 'RB Leipzig',\n",
       "    'home_logo': '/football/team/26a59fe5653a96ba72f4f1e4e08b6d4b.png',\n",
       "    'away_team_id': '9k82rekh44krepz',\n",
       "    'away_name': 'Crvena Zvezda',\n",
       "    'away_logo': '/football/team/61a1f9406cde098a265280a3683da9b7.png',\n",
       "    'home_scores': [3, 1, 0, 1, 9, 0, 0],\n",
       "    'away_scores': [1, 0, 0, 4, 4, 0, 0]},\n",
       "   {'match_id': '318q66hwodl3qo9',\n",
       "    'match_time': 1696446000,\n",
       "    'status_id': 8,\n",
       "    'home_team_id': 'z318q66hdleqo9j',\n",
       "    'home_name': 'RB Leipzig',\n",
       "    'home_logo': '/football/team/26a59fe5653a96ba72f4f1e4e08b6d4b.png',\n",
       "    'away_team_id': 'p4jwq2ghd57m0ve',\n",
       "    'away_name': 'Manchester City',\n",
       "    'away_logo': '/football/team/c4a6528a2ee147b99c9885ef24385a4e.png',\n",
       "    'home_scores': [1, 0, 0, 2, 2, 0, 0],\n",
       "    'away_scores': [3, 1, 0, 1, 3, 0, 0]},\n",
       "   {'match_id': 'l5ergphwojgxr8k',\n",
       "    'match_time': 1695141900,\n",
       "    'status_id': 8,\n",
       "    'home_team_id': 'gy0or5jhddxqwzv',\n",
       "    'home_name': 'Young Boys',\n",
       "    'home_logo': '/football/team/5ee7149b64dc654c7fa2e43c7a0cf12e.png',\n",
       "    'away_team_id': 'z318q66hdleqo9j',\n",
       "    'away_name': 'RB Leipzig',\n",
       "    'away_logo': '/football/team/26a59fe5653a96ba72f4f1e4e08b6d4b.png',\n",
       "    'home_scores': [1, 1, 0, 3, 3, 0, 0],\n",
       "    'away_scores': [3, 1, 0, 4, 7, 0, 0]}]},\n",
       " {'competition_id': 'l965mkyhn0r1ge4',\n",
       "  'competition_name': 'DFB Pokal',\n",
       "  'competition_logo': '/football/competition/1cded13e781ed1f7c2514a3413506960.png',\n",
       "  'matches': [{'match_id': 'dn1m1gh2e6ynmoe',\n",
       "    'match_time': 1698771600,\n",
       "    'status_id': 8,\n",
       "    'home_team_id': '56ypq3nhdnkmd7o',\n",
       "    'home_name': 'VfL Wolfsburg',\n",
       "    'home_logo': '/football/team/03645e9c1d7fd2c48705622f52fd901e.png',\n",
       "    'away_team_id': 'z318q66hdleqo9j',\n",
       "    'away_name': 'RB Leipzig',\n",
       "    'away_logo': '/football/team/26a59fe5653a96ba72f4f1e4e08b6d4b.png',\n",
       "    'home_scores': [1, 1, 0, 5, 6, 0, 0],\n",
       "    'away_scores': [0, 0, 1, 4, 6, 0, 0]},\n",
       "   {'match_id': '4wyrn4hoj5kkq86',\n",
       "    'match_time': 1695840300,\n",
       "    'status_id': 8,\n",
       "    'home_team_id': 'gpxwrxlho42ryk0',\n",
       "    'home_name': 'SV Wehen Wiesbaden',\n",
       "    'home_logo': '/football/team/305c1d59bdbe8bd8e267a58514ead1c5.png',\n",
       "    'away_team_id': 'z318q66hdleqo9j',\n",
       "    'away_name': 'RB Leipzig',\n",
       "    'away_logo': '/football/team/26a59fe5653a96ba72f4f1e4e08b6d4b.png',\n",
       "    'home_scores': [2, 1, 0, 3, 4, 0, 0],\n",
       "    'away_scores': [3, 2, 0, 1, 4, 0, 0]},\n",
       "   {'match_id': 'pxwrxlhx885wryk',\n",
       "    'match_time': 1685815200,\n",
       "    'status_id': 8,\n",
       "    'home_team_id': 'z318q66hdleqo9j',\n",
       "    'home_name': 'RB Leipzig',\n",
       "    'home_logo': '/football/team/26a59fe5653a96ba72f4f1e4e08b6d4b.png',\n",
       "    'away_team_id': 'p3glrw7henvqdyj',\n",
       "    'away_name': 'Eintracht Frankfurt',\n",
       "    'away_logo': '/football/team/fe636189a2f3db78d0554c34f0bdaae6.png',\n",
       "    'home_scores': [2, 0, 0, 2, 6, 0, 0],\n",
       "    'away_scores': [0, 0, 0, 2, 3, 0, 0]}]},\n",
       " {'competition_id': 'gpxwrxlhgpryk0j',\n",
       "  'competition_name': 'International Club Friendly',\n",
       "  'competition_logo': '/football/competition/2440249cd19586c39de8e05d55cc6b0d.png',\n",
       "  'matches': [{'match_id': 'l5ergphwve8dr8k',\n",
       "    'match_time': 1697022000,\n",
       "    'status_id': 8,\n",
       "    'home_team_id': 'z318q66hdleqo9j',\n",
       "    'home_name': 'RB Leipzig',\n",
       "    'home_logo': '/football/team/26a59fe5653a96ba72f4f1e4e08b6d4b.png',\n",
       "    'away_team_id': 'kjw2r09hde4rz84',\n",
       "    'away_name': 'Mlada Boleslav',\n",
       "    'away_logo': '/football/team/6e770639e316afd0a0db733a97c9400e.png',\n",
       "    'home_scores': [2, 0, 0, 0, 0, 0, 0],\n",
       "    'away_scores': [4, 2, 0, 0, 0, 0, 0]},\n",
       "   {'match_id': '318q66hwzn73qo9',\n",
       "    'match_time': 1691242200,\n",
       "    'status_id': 8,\n",
       "    'home_team_id': 'z318q66hdleqo9j',\n",
       "    'home_name': 'RB Leipzig',\n",
       "    'home_logo': '/football/team/26a59fe5653a96ba72f4f1e4e08b6d4b.png',\n",
       "    'away_team_id': 'p3glrw7h2nyqdyj',\n",
       "    'away_name': 'Las Palmas',\n",
       "    'away_logo': '/football/team/eff9bb17ae54a84068dfc3b9f1f628cb.png',\n",
       "    'home_scores': [3, 2, 0, 0, 5, 0, 0],\n",
       "    'away_scores': [0, 0, 0, 4, 2, 0, 0]},\n",
       "   {'match_id': 'jw2r09h68z6grz8',\n",
       "    'match_time': 1690551900,\n",
       "    'status_id': 8,\n",
       "    'home_team_id': 'z318q66hdleqo9j',\n",
       "    'home_name': 'RB Leipzig',\n",
       "    'home_logo': '/football/team/26a59fe5653a96ba72f4f1e4e08b6d4b.png',\n",
       "    'away_team_id': '9k82rekhdxorepz',\n",
       "    'away_name': 'Werder Bremen',\n",
       "    'away_logo': '/football/team/82e3b03a1df3d7ae3d38e9fdd24fe622.png',\n",
       "    'home_scores': [0, 0, 0, 1, 0, 0, 0],\n",
       "    'away_scores': [0, 0, 0, 0, 0, 0, 0]},\n",
       "   {'match_id': 'l5ergphlg1ldr8k',\n",
       "    'match_time': 1690547400,\n",
       "    'status_id': 8,\n",
       "    'home_team_id': 'j1l4rjnhpo5m7vx',\n",
       "    'home_name': 'Ipswich Town',\n",
       "    'home_logo': '/football/team/cec3eaaa5271c1f2f036469593ecbcd8.png',\n",
       "    'away_team_id': 'z318q66hdleqo9j',\n",
       "    'away_name': 'RB Leipzig',\n",
       "    'away_logo': '/football/team/26a59fe5653a96ba72f4f1e4e08b6d4b.png',\n",
       "    'home_scores': [1, 0, 0, 0, 0, 0, 0],\n",
       "    'away_scores': [0, 0, 0, 0, 0, 0, 0]},\n",
       "   {'match_id': '4jwq2ghzln3gm0v',\n",
       "    'match_time': 1690300800,\n",
       "    'status_id': 8,\n",
       "    'home_team_id': 'gpxwrxlhwkgryk0',\n",
       "    'home_name': 'Udinese',\n",
       "    'home_logo': '/football/team/3d61e8a41509852f0a156d73d3085b98.png',\n",
       "    'away_team_id': 'z318q66hdleqo9j',\n",
       "    'away_name': 'RB Leipzig',\n",
       "    'away_logo': '/football/team/26a59fe5653a96ba72f4f1e4e08b6d4b.png',\n",
       "    'home_scores': [2, 1, 0, 0, 2, 0, 0],\n",
       "    'away_scores': [1, 0, 0, 1, 5, 0, 0]}]},\n",
       " {'competition_id': 'z318q66hjyqo9jd',\n",
       "  'competition_name': 'German Super Cup',\n",
       "  'competition_logo': '/football/competition/00ddb872d69c81ef5be9e605f9efc979.png',\n",
       "  'matches': [{'match_id': '8yomo4hgp1j5q0j',\n",
       "    'match_time': 1691865900,\n",
       "    'status_id': 8,\n",
       "    'home_team_id': 'yl5ergphjy2r8k0',\n",
       "    'home_name': 'Bayern Munchen',\n",
       "    'home_logo': '/football/team/4c7e35b5134ebf4d92bdf0e88519e077.png',\n",
       "    'away_team_id': 'z318q66hdleqo9j',\n",
       "    'away_name': 'RB Leipzig',\n",
       "    'away_logo': '/football/team/26a59fe5653a96ba72f4f1e4e08b6d4b.png',\n",
       "    'home_scores': [0, 0, 0, 2, 9, 0, 0],\n",
       "    'away_scores': [3, 2, 0, 1, 6, 0, 0]}]}]"
      ]
     },
     "execution_count": 72,
     "metadata": {},
     "output_type": "execute_result"
    }
   ],
   "source": [
    "data2['home']"
   ]
  },
  {
   "cell_type": "code",
   "execution_count": 75,
   "id": "793addaa-f654-4cdc-a57c-709d0b03ce2d",
   "metadata": {},
   "outputs": [],
   "source": [
    "#H2H recents 5 games\n",
    "team1_h2h_stats = {'win':0,'draw':0,'loss':0}\n",
    "if len(data2['h2h'][0]['matches']) >= 5:\n",
    "    for i in data2['h2h'][0]['matches'][0:5]:\n",
    "        if i['home_scores'] > i['away_scores']:\n",
    "            if i['home_name'] == team1:\n",
    "                team1_h2h_stats['win']+=1\n",
    "            else:\n",
    "                team1_h2h_stats['loss']+=1\n",
    "        elif i['home_scores'] == i['away_scores']:\n",
    "            team1_h2h_stats['draw']+=1\n",
    "        else:\n",
    "            if i['home_name'] == team1:\n",
    "                team1_h2h_stats['loss']+=1\n",
    "            else:\n",
    "                team1_h2h_stats['win']+=1\n",
    "elif len(data2['h2h'][0]['matches']) < 5 and len(data2['h2h'][0]['matches'])>= 1:\n",
    "    for i in data2['h2h'][0]['matches']:\n",
    "        if i['home_scores'] > i['away_scores']:\n",
    "            if i['home_name'] == team1:\n",
    "                team1_h2h_stats['win']+=1\n",
    "            else:\n",
    "                team1_h2h_stats['loss']+=1\n",
    "        elif i['home_scores'] == i['away_scores']:\n",
    "            team1_h2h_stats['draw']+=1\n",
    "        else:\n",
    "            if i['home_name'] == team1:\n",
    "                team1_h2h_stats['loss']+=1\n",
    "            else:\n",
    "                team1_h2h_stats['win']+=1\n",
    "else:\n",
    "    team1_h2h_stats = {'win':1,'draw':1,'loss':1}\n",
    "#Team1 stats 5 recent games:\n",
    "home_stats = {'win':0,'draw':0,'loss':0}\n",
    "for i in data2['home'][0]['matches'][0:5]:\n",
    "    if i['home_scores'] > i['away_scores']:\n",
    "        if i['home_name'] == team1:\n",
    "            home_stats['win']+=1\n",
    "        else:\n",
    "            home_stats['loss']+=1\n",
    "    elif i['home_scores'] == i['away_scores']:\n",
    "        home_stats['draw']+=1\n",
    "    else:\n",
    "        if i['home_name'] == team1:\n",
    "            home_stats['loss']+=1\n",
    "        else:\n",
    "            home_stats['win']+=1"
   ]
  },
  {
   "cell_type": "code",
   "execution_count": 43,
   "id": "3f9c7f6d-3bcd-47a1-9229-6c43484099b9",
   "metadata": {},
   "outputs": [],
   "source": [
    "#Team2 stats 5 recent games\n",
    "away_stats = {'win':0,'draw':0,'loss':0}\n",
    "for i in data2['away'][0]['matches'][0:5]:\n",
    "    if i['home_scores'] > i['away_scores']:\n",
    "        if i['home_name'] == team2:\n",
    "            away_stats['win']+=1\n",
    "        else:\n",
    "            away_stats['loss']+=1\n",
    "    elif i['home_scores'] == i['away_scores']:\n",
    "        away_stats['draw']+=1\n",
    "    else:\n",
    "        if i['home_name'] == team2:\n",
    "            away_stats['loss']+=1\n",
    "        else:\n",
    "            away_stats['win']+=1 \n",
    "#Team1 GA and GF scores\n",
    "for i in data2['home'][0]['matches']:\n",
    "    if i['home_name']== team1:\n",
    "        team1_home_ga_scores.append(i['home_scores'][0])\n",
    "        team1_home_gf_scores.append(i['away_scores'][0])\n",
    "#Team1 adjusted EG\n",
    "if np.mean(team1_home_gf_scores[0:]) == 0:\n",
    "    team1_home_eg_adjst_ratio = np.mean(team1_home_ga_scores[0:])/(1/len(team1_home_gf_scores[0:]))\n",
    "else:\n",
    "    team1_home_eg_adjst_ratio = np.mean(team1_home_ga_scores[0:])/np.mean(team1_home_gf_scores[0:])\n",
    "\n",
    "#Team2 GA and GF scores\n",
    "team2_away_ga_scores=[]\n",
    "team2_away_gf_scores=[]\n",
    "for i in data2['away'][0]['matches']:\n",
    "    if i['away_name']== team2:\n",
    "        team2_away_ga_scores.append(i['away_scores'][0])\n",
    "        team2_away_gf_scores.append(i['home_scores'][0])\n",
    "#Team2 adjusted EG\n",
    "if np.mean(team2_away_gf_scores[0:]) == 0:\n",
    "    team2_away_eg_adjst_ratio = np.mean(team2_away_ga_scores[0:])/(1/len(team2_away_gf_scores[0:]))\n",
    "else:\n",
    "    team2_away_eg_adjst_ratio = np.mean(team2_away_ga_scores[0:])/np.mean(team2_away_gf_scores[0:])\n",
    "\n",
    "#Home and Away EG\n",
    "home_eg = team1_avg_h2h_home_scores * team1_home_eg_adjst_ratio\n",
    "away_eg = team2_avg_h2h_away_scores * team2_away_eg_adjst_ratio\n",
    "def poisson_goal(g,eg):\n",
    "    return (math.e**(-eg)*eg**g)/(math.factorial(g))\n",
    "#Home team goals probabilty, assume goals only in range 0-7\n",
    "home_goals_probs = []\n",
    "for i in range(0,8):\n",
    "    prob = poisson_goal(i,home_eg)\n",
    "    home_goals_probs.append(prob)\n",
    "#Away team goals probability, assume that goals are only in range 0-7\n",
    "away_goals_probs = []\n",
    "for i in range(0,8):\n",
    "    prob = poisson_goal(i,away_eg)\n",
    "    away_goals_probs.append(prob)\n",
    "#Home and Away goals prediction:\n",
    "home_goal_pred = home_goals_probs.index(max(home_goals_probs))\n",
    "away_goal_pred = away_goals_probs.index(max(away_goals_probs))\n",
    "#Probability that Home team win:\n",
    "home_win_prob_list = []\n",
    "for i in range(0,len(home_goals_probs)):\n",
    "    for j in range(0,len(away_goals_probs)):\n",
    "        if j < i:\n",
    "            home_win_prob_list.append(home_goals_probs[i]*away_goals_probs[j])\n",
    "home_win_prob = sum(home_win_prob_list)\n",
    "#Probability that both team draw:\n",
    "draw_prob = sum(np.array(home_goals_probs)*np.array(away_goals_probs))\n",
    "#Probability that Away team win:\n",
    "away_win_prob = 1 - draw_prob - home_win_prob\n",
    "#Probability that both team will score\n",
    "both_team_score_goal_list = []\n",
    "for i in home_goals_probs:\n",
    "    both_team_score_goal_list.append(i*away_goals_probs[0])\n",
    "for j in away_goals_probs[1:]:\n",
    "    both_team_score_goal_list.append(j*home_goals_probs[0])\n",
    "both_team_score_prob = 1 - sum(both_team_score_goal_list)"
   ]
  },
  {
   "cell_type": "code",
   "execution_count": 57,
   "id": "99a50670-6ea4-4436-a2d9-f9f39559cf07",
   "metadata": {},
   "outputs": [
    {
     "data": {
      "text/plain": [
       "[{'match_id': 'l5ergphwojgxr8k',\n",
       "  'match_time': 1695141900,\n",
       "  'status_id': 8,\n",
       "  'home_team_id': 'gy0or5jhddxqwzv',\n",
       "  'home_name': 'Young Boys',\n",
       "  'home_logo': '/football/team/5ee7149b64dc654c7fa2e43c7a0cf12e.png',\n",
       "  'away_team_id': 'z318q66hdleqo9j',\n",
       "  'away_name': 'RB Leipzig',\n",
       "  'away_logo': '/football/team/26a59fe5653a96ba72f4f1e4e08b6d4b.png',\n",
       "  'home_scores': [1, 1, 0, 3, 3, 0, 0],\n",
       "  'away_scores': [3, 1, 0, 4, 7, 0, 0]}]"
      ]
     },
     "execution_count": 57,
     "metadata": {},
     "output_type": "execute_result"
    }
   ],
   "source": [
    "data2['h2h'][0]['matches']"
   ]
  },
  {
   "cell_type": "code",
   "execution_count": 76,
   "id": "f3719a73-f7b9-469d-ae10-64885b71b969",
   "metadata": {},
   "outputs": [
    {
     "data": {
      "text/plain": [
       "3.5714285714285716"
      ]
     },
     "execution_count": 76,
     "metadata": {},
     "output_type": "execute_result"
    }
   ],
   "source": [
    "team1_home_eg_adjst_ratio"
   ]
  },
  {
   "cell_type": "code",
   "execution_count": 77,
   "id": "e9a3f301-b9ec-47e4-94d0-dbea73354a2f",
   "metadata": {},
   "outputs": [
    {
     "data": {
      "text/plain": [
       "nan"
      ]
     },
     "execution_count": 77,
     "metadata": {},
     "output_type": "execute_result"
    }
   ],
   "source": [
    "team1_avg_h2h_home_scores"
   ]
  },
  {
   "cell_type": "code",
   "execution_count": 47,
   "id": "309f85f6-6803-49ac-b8d4-d71f7c34a141",
   "metadata": {},
   "outputs": [
    {
     "data": {
      "text/plain": [
       "{'win': 1, 'draw': 0, 'loss': 0}"
      ]
     },
     "execution_count": 47,
     "metadata": {},
     "output_type": "execute_result"
    }
   ],
   "source": [
    "team1_h2h_stats"
   ]
  },
  {
   "cell_type": "code",
   "execution_count": 48,
   "id": "fd594184-e155-43c6-88a1-d71bf0fb0905",
   "metadata": {},
   "outputs": [
    {
     "data": {
      "text/plain": [
       "3.5714285714285716"
      ]
     },
     "execution_count": 48,
     "metadata": {},
     "output_type": "execute_result"
    }
   ],
   "source": [
    "team1_home_eg_adjst_ratio"
   ]
  },
  {
   "cell_type": "code",
   "execution_count": 28,
   "id": "0ff965c0-daac-4e88-b5a9-fd3b758a4a56",
   "metadata": {},
   "outputs": [
    {
     "data": {
      "text/plain": [
       "[{'competition_id': 'z8yomo4h7wq0j6l',\n",
       "  'competition_name': 'UEFA Champions League',\n",
       "  'competition_logo': '/football/competition/ac05535bde17129cb598311242b3afba.png',\n",
       "  'matches': [{'match_id': 'l5ergphwojgxr8k',\n",
       "    'match_time': 1695141900,\n",
       "    'status_id': 8,\n",
       "    'home_team_id': 'gy0or5jhddxqwzv',\n",
       "    'home_name': 'Young Boys',\n",
       "    'home_logo': '/football/team/5ee7149b64dc654c7fa2e43c7a0cf12e.png',\n",
       "    'away_team_id': 'z318q66hdleqo9j',\n",
       "    'away_name': 'RB Leipzig',\n",
       "    'away_logo': '/football/team/26a59fe5653a96ba72f4f1e4e08b6d4b.png',\n",
       "    'home_scores': [1, 1, 0, 3, 3, 0, 0],\n",
       "    'away_scores': [3, 1, 0, 4, 7, 0, 0]}]}]"
      ]
     },
     "execution_count": 28,
     "metadata": {},
     "output_type": "execute_result"
    }
   ],
   "source": [
    "data2['h2h']"
   ]
  },
  {
   "cell_type": "code",
   "execution_count": 58,
   "id": "97c30e9b-17b2-4a52-ba91-422e08395402",
   "metadata": {},
   "outputs": [],
   "source": [
    "team2_h2h_home_scrores = []\n",
    "for i in data2['h2h'][0]['matches']:\n",
    "    if i['home_name']== team2:\n",
    "        team2_h2h_home_scrores.append(i['home_scores'][0])"
   ]
  },
  {
   "cell_type": "code",
   "execution_count": 73,
   "id": "3d3c9ffe-6bc0-4097-9f65-19d1a28b776b",
   "metadata": {},
   "outputs": [
    {
     "data": {
      "text/plain": [
       "[1]"
      ]
     },
     "execution_count": 73,
     "metadata": {},
     "output_type": "execute_result"
    }
   ],
   "source": [
    "team2_h2h_home_scrores"
   ]
  },
  {
   "cell_type": "code",
   "execution_count": 78,
   "id": "c030316e-1673-4c4f-a655-dc1ed29e0439",
   "metadata": {},
   "outputs": [
    {
     "data": {
      "text/plain": [
       "nan"
      ]
     },
     "execution_count": 78,
     "metadata": {},
     "output_type": "execute_result"
    }
   ],
   "source": [
    "np.mean(team1_h2h_home_scrores[0:5])"
   ]
  },
  {
   "cell_type": "code",
   "execution_count": 51,
   "id": "83c15b99-ce87-4177-bad1-8b02ede1a6b8",
   "metadata": {},
   "outputs": [
    {
     "data": {
      "text/plain": [
       "3.5714285714285716"
      ]
     },
     "execution_count": 51,
     "metadata": {},
     "output_type": "execute_result"
    }
   ],
   "source": [
    "team1_home_eg_adjst_ratio"
   ]
  },
  {
   "cell_type": "code",
   "execution_count": 62,
   "id": "c730d1a6-d8de-4178-83d7-c8d9b5ee61b9",
   "metadata": {},
   "outputs": [
    {
     "data": {
      "text/plain": [
       "1"
      ]
     },
     "execution_count": 62,
     "metadata": {},
     "output_type": "execute_result"
    }
   ],
   "source": [
    "len(data2['h2h'][0]['matches'])"
   ]
  },
  {
   "cell_type": "code",
   "execution_count": 74,
   "id": "97a22470-5fd3-4bdc-9d9a-31e6b81978cb",
   "metadata": {},
   "outputs": [
    {
     "data": {
      "text/plain": [
       "[{'match_id': '2y8m4zhwk9zzql0',\n",
       "  'match_time': 1702143000,\n",
       "  'status_id': 8,\n",
       "  'home_team_id': '4zp5rzghe4nq82w',\n",
       "  'home_name': 'Borussia Dortmund',\n",
       "  'home_logo': '/football/team/bbfacbdbe67705172c6414d7e9c21b58.png',\n",
       "  'away_team_id': 'z318q66hdleqo9j',\n",
       "  'away_name': 'RB Leipzig',\n",
       "  'away_logo': '/football/team/26a59fe5653a96ba72f4f1e4e08b6d4b.png',\n",
       "  'home_scores': [2, 1, 1, 1, 6, 0, 0],\n",
       "  'away_scores': [3, 1, 0, 3, 6, 0, 0]},\n",
       " {'match_id': 'l7oqdeh85kl4r51',\n",
       "  'match_time': 1701527400,\n",
       "  'status_id': 8,\n",
       "  'home_team_id': 'z318q66hdleqo9j',\n",
       "  'home_name': 'RB Leipzig',\n",
       "  'home_logo': '/football/team/26a59fe5653a96ba72f4f1e4e08b6d4b.png',\n",
       "  'away_team_id': 'n54qllh261zqvy9',\n",
       "  'away_name': '1. FC Heidenheim',\n",
       "  'away_logo': '/football/team/65ee743f20fa7db286fdeda4d33c6980.png',\n",
       "  'home_scores': [2, 2, 0, 2, 5, 0, 0],\n",
       "  'away_scores': [1, 1, 0, 2, 3, 0, 0]}]"
      ]
     },
     "execution_count": 74,
     "metadata": {},
     "output_type": "execute_result"
    }
   ],
   "source": [
    "data2['home'][0]['matches'][0:2]"
   ]
  },
  {
   "cell_type": "code",
   "execution_count": 66,
   "id": "0005edfa-d983-47bf-b4af-0b5676a8d84c",
   "metadata": {},
   "outputs": [
    {
     "data": {
      "text/plain": [
       "[3]"
      ]
     },
     "execution_count": 66,
     "metadata": {},
     "output_type": "execute_result"
    }
   ],
   "source": [
    "team1_h2h_away_scrores"
   ]
  },
  {
   "cell_type": "code",
   "execution_count": null,
   "id": "5591e756-1dd9-4958-906b-e253d1b2f335",
   "metadata": {},
   "outputs": [],
   "source": [
    "#"
   ]
  }
 ],
 "metadata": {
  "kernelspec": {
   "display_name": "Python 3 (ipykernel)",
   "language": "python",
   "name": "python3"
  },
  "language_info": {
   "codemirror_mode": {
    "name": "ipython",
    "version": 3
   },
   "file_extension": ".py",
   "mimetype": "text/x-python",
   "name": "python",
   "nbconvert_exporter": "python",
   "pygments_lexer": "ipython3",
   "version": "3.11.5"
  }
 },
 "nbformat": 4,
 "nbformat_minor": 5
}
